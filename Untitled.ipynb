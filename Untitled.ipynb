{
 "cells": [
  {
   "cell_type": "code",
   "execution_count": 1,
   "id": "47c97081",
   "metadata": {},
   "outputs": [
    {
     "name": "stdout",
     "output_type": "stream",
     "text": [
      "Confusion Matrix:\n",
      "A: 0\n",
      "B: 0\n",
      "C: 3\n",
      "D: 8\n"
     ]
    }
   ],
   "source": [
    "import numpy as np\n",
    "from sklearn.metrics import confusion_matrix\n",
    "\n",
    "# Define the actual labels and the baseline prediction\n",
    "actual_labels = np.array([1, 1, 0, 0, 1, 0, 0, 0, 0, 0, 0])\n",
    "baseline_prediction = np.zeros_like(actual_labels)  # Baseline prediction of all zeros\n",
    "\n",
    "# Calculate the confusion matrix\n",
    "cm = confusion_matrix(actual_labels, baseline_prediction)\n",
    "\n",
    "# Define the values for the confusion matrix blocks A, B, C, and D\n",
    "A = cm[1][1]  # True Positives\n",
    "B = cm[0][1]  # False Positives\n",
    "C = cm[1][0]  # False Negatives\n",
    "D = cm[0][0]  # True Negatives\n",
    "\n",
    "# Print the confusion matrix blocks\n",
    "print(\"Confusion Matrix:\")\n",
    "print(f\"A: {A}\")\n",
    "print(f\"B: {B}\")\n",
    "print(f\"C: {C}\")\n",
    "print(f\"D: {D}\")\n"
   ]
  },
  {
   "cell_type": "code",
   "execution_count": 2,
   "id": "624d597b",
   "metadata": {},
   "outputs": [
    {
     "name": "stdout",
     "output_type": "stream",
     "text": [
      "0\n"
     ]
    }
   ],
   "source": [
    "has_churned = [1, 1, 0, 0, 1, 0, 0, 0, 0, 0, 0]\n",
    "\n",
    "# Calculate the baseline prediction\n",
    "baseline_prediction = 0\n",
    "\n",
    "# Print the baseline prediction\n",
    "print(baseline_prediction)\n",
    "\n"
   ]
  },
  {
   "cell_type": "code",
   "execution_count": 3,
   "id": "78f14e04",
   "metadata": {},
   "outputs": [
    {
     "name": "stdout",
     "output_type": "stream",
     "text": [
      "0.2727272727272727\n"
     ]
    }
   ],
   "source": [
    "import numpy as np\n",
    "\n",
    "# Create the labeled sample\n",
    "has_churned = np.array([1, 1, 0, 0, 1, 0, 0, 0, 0, 0, 0])\n",
    "\n",
    "# Calculate the baseline prediction\n",
    "baseline_prediction = np.mean(has_churned)\n",
    "\n",
    "# Print the baseline prediction\n",
    "print(baseline_prediction)\n"
   ]
  }
 ],
 "metadata": {
  "kernelspec": {
   "display_name": "Python 3 (ipykernel)",
   "language": "python",
   "name": "python3"
  },
  "language_info": {
   "codemirror_mode": {
    "name": "ipython",
    "version": 3
   },
   "file_extension": ".py",
   "mimetype": "text/x-python",
   "name": "python",
   "nbconvert_exporter": "python",
   "pygments_lexer": "ipython3",
   "version": "3.10.9"
  }
 },
 "nbformat": 4,
 "nbformat_minor": 5
}
