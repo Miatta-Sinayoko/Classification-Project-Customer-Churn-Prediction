{
 "cells": [
  {
   "cell_type": "code",
   "execution_count": 1,
   "metadata": {},
   "outputs": [],
   "source": [
    "from sklearn.model_selection import train_test_split\n",
    "from sklearn.linear_model import LogisticRegression\n",
    "from sklearn.metrics import accuracy_score, precision_score, recall_score\n"
   ]
  },
  {
   "cell_type": "code",
   "execution_count": 2,
   "metadata": {},
   "outputs": [],
   "source": [
    "#Import Libraries\n",
    "import pandas as pd\n",
    "import numpy as np\n",
    "import os\n",
    "import acquire"
   ]
  },
  {
   "cell_type": "code",
   "execution_count": 3,
   "metadata": {},
   "outputs": [],
   "source": [
    "# Acquire\n",
    "\n",
    "# Create function to retrieve telco_churn data\n",
    "telco = acquire.get_telco_churn_data()\n",
    "\n",
    "   "
   ]
  },
  {
   "cell_type": "code",
   "execution_count": 5,
   "metadata": {},
   "outputs": [],
   "source": [
    "# Create helper function to get the necessary connection url\n",
    "def get_connection(db_name):\n",
    "    \"\"\"\n",
    "    This function uses my info from my env file to\n",
    "    create a connection url to access the Codeup db.\n",
    "    \"\"\"\n",
    "    return f'mysql+pymysql://{user}:{password}@{host}/{db_name}'\n"
   ]
  },
  {
   "cell_type": "code",
   "execution_count": 6,
   "metadata": {},
   "outputs": [],
   "source": [
    "# Create function to retrieve telco_churn data\n",
    "def get_telco_churn_data():\n",
    "    \"\"\"\n",
    "    This function reads in the Telco Churn data from the Codeup db\n",
    "    and returns a pandas DataFrame with all columns.\n",
    "    \"\"\"\n",
    "    filename = 'telco.csv'\n",
    "\n",
    "    if os.path.isfile(filename):\n",
    "        return pd.read_csv(filename)\n",
    "\n",
    "    else:\n",
    "        sql = '''\n",
    "                SELECT *\n",
    "                FROM customers\n",
    "                JOIN payment_types USING (payment_type_id)\n",
    "                JOIN contract_types USING (contract_type_id)\n",
    "                JOIN internet_service_types USING (internet_service_type_id);\n",
    "                '''\n",
    "\n",
    "        df = pd.read_sql(sql, get_connection('telco_churn'))\n",
    "\n",
    "        df.to_csv(filename, index=False)\n",
    "\n",
    "        return df\n",
    "\n"
   ]
  },
  {
   "cell_type": "markdown",
   "metadata": {},
   "source": [
    "## Prepare\n"
   ]
  },
  {
   "cell_type": "code",
   "execution_count": null,
   "metadata": {},
   "outputs": [],
   "source": []
  },
  {
   "cell_type": "code",
   "execution_count": null,
   "metadata": {},
   "outputs": [],
   "source": [
    "def prep_telco_churn(df):\n",
    "    '''\n",
    "    This function takes in the DataFrame from get_telco_churn_data\n",
    "    and returns the DataFrame with preprocessing applied \n",
    "    '''\n",
    "    # Drop duplicated columns and rows\n",
    "    df = df.loc[:, ~df.columns.duplicated()]\n",
    "    df.drop_duplicates(inplace=True)\n",
    "\n",
    "    # Replace ' ' in 'total_charges' column with '0' and change its data type to float\n",
    "    df.total_charges = df.total_charges.replace(' ', '0').astype(float)\n",
    "\n",
    "    # Change data type for boolean columns\n",
    "    for col in ['churn', 'partner', 'dependents', 'phone_service']:\n",
    "        df[col] = df[col].map({'No': 0, 'Yes': 1})\n",
    "\n",
    "    return df"
   ]
  },
  {
   "cell_type": "code",
   "execution_count": null,
   "metadata": {},
   "outputs": [],
   "source": [
    "def split_data(df):\n",
    "    '''\n",
    "    This function takes in a DataFrame and returns train, validate, and test DataFrames.\n",
    "    '''\n",
    "    # Create train_validate and test datasets\n",
    "    train_validate, test = train_test_split(df, test_size=.2, random_state=123, stratify=df.churn)\n",
    "\n",
    "    # Split train_validate into train and validate datasets\n",
    "    train, validate = train_test_split(train_validate, test_size=.3, random_state=123, stratify=train_validate.churn)\n",
    "\n",
    "    return train, validate, test\n"
   ]
  },
  {
   "cell_type": "code",
   "execution_count": null,
   "metadata": {
    "scrolled": false
   },
   "outputs": [],
   "source": [
    "# To inspect the first few rows of the DataFrame, you can use the head functiotelco.head()\n",
    "telco.head()\n",
    "\n",
    "    \n",
    "    "
   ]
  },
  {
   "cell_type": "markdown",
   "metadata": {},
   "source": [
    "\n",
    "## Explore the data\n"
   ]
  },
  {
   "cell_type": "code",
   "execution_count": null,
   "metadata": {},
   "outputs": [],
   "source": []
  },
  {
   "cell_type": "code",
   "execution_count": null,
   "metadata": {},
   "outputs": [],
   "source": []
  },
  {
   "cell_type": "markdown",
   "metadata": {},
   "source": [
    "#### Probe the data for insights\n"
   ]
  },
  {
   "cell_type": "code",
   "execution_count": null,
   "metadata": {},
   "outputs": [],
   "source": []
  },
  {
   "cell_type": "code",
   "execution_count": null,
   "metadata": {},
   "outputs": [],
   "source": []
  },
  {
   "cell_type": "code",
   "execution_count": null,
   "metadata": {},
   "outputs": [],
   "source": []
  }
 ],
 "metadata": {
  "anaconda-cloud": {},
  "kernelspec": {
   "display_name": "Python 3 (ipykernel)",
   "language": "python",
   "name": "python3"
  },
  "language_info": {
   "codemirror_mode": {
    "name": "ipython",
    "version": 3
   },
   "file_extension": ".py",
   "mimetype": "text/x-python",
   "name": "python",
   "nbconvert_exporter": "python",
   "pygments_lexer": "ipython3",
   "version": "3.10.9"
  }
 },
 "nbformat": 4,
 "nbformat_minor": 4
}
