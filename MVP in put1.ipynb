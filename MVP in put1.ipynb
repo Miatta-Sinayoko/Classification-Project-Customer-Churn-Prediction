{
 "cells": [
  {
   "cell_type": "markdown",
   "id": "4b63876d",
   "metadata": {},
   "source": [
    "# MVP"
   ]
  },
  {
   "cell_type": "markdown",
   "id": "f583490a",
   "metadata": {},
   "source": [
    "### Project Description\n",
    "This project aims to identify customer churn factors for TELCO, to reduce churn and improve customer loyalty.\n",
    "\n",
    "### Project Goals\n",
    "The primary goals of this project were to:\n",
    "Identify customer churn drivers.\n",
    "Build a churn prediction model.\n",
    "Present findings to TELCO stakeholders.\n",
    "### Initial Questions\n",
    "* Does being a senior citizen have a significant impact on customer churn?\n",
    "* Does tenure have a significant impact on customer churn?\n",
    "* Does internet service type have a significant impact on customer churn?\n"
   ]
  },
  {
   "cell_type": "code",
   "execution_count": null,
   "id": "b079ff02",
   "metadata": {},
   "outputs": [],
   "source": [
    "\n",
    "#Import Libraries\n",
    "\n",
    "from sklearn.model_selection import train_test_split\n",
    "from sklearn.tree import DecisionTreeClassifier, plot_tree, export_text\n",
    "from sklearn.ensemble import RandomForestClassifier\n",
    "from sklearn.linear_model import LogisticRegression\n",
    "from sklearn.neighbors import KNeighborsClassifier\n",
    "from sklearn.linear_model import LogisticRegression\n",
    "from sklearn.neighbors import KNeighborsClassifier\n",
    "from sklearn.metrics import classification_report, confusion_matrix, accuracy_score\n",
    "from sklearn.metrics import ConfusionMatrixDisplay\n",
    "\n",
    "\n",
    "import pandas as pd\n",
    "import numpy as np\n",
    "import os\n",
    "import seaborn as sns\n",
    "import matplotlib.pyplot as plt\n",
    "import scipy.stats as stats\n",
    "from scipy.stats import chi2_contingency\n",
    "import acquire\n",
    "import prepare\n",
    "import model\n",
    "\n",
    "# ignore warnings\n",
    "import warnings \n",
    "warnings.filterwarnings(\"ignore\")"
   ]
  },
  {
   "cell_type": "markdown",
   "id": "afbc6ee5",
   "metadata": {},
   "source": [
    "## ACQUIRE"
   ]
  },
  {
   "cell_type": "markdown",
   "id": "3e30b36f",
   "metadata": {},
   "source": [
    "##### Acquire the data\n"
   ]
  },
  {
   "cell_type": "code",
   "execution_count": null,
   "id": "3ffed696",
   "metadata": {},
   "outputs": [],
   "source": [
    "\n",
    "df = acquire.get_telco_churn_data()\n",
    "df.info()\n"
   ]
  },
  {
   "cell_type": "markdown",
   "id": "affa7d58",
   "metadata": {},
   "source": [
    "## PREPARE"
   ]
  },
  {
   "cell_type": "code",
   "execution_count": null,
   "id": "2765e10c",
   "metadata": {
    "scrolled": true
   },
   "outputs": [],
   "source": [
    "# Prepare the data\n",
    "df = prepare.prep_telco_churn(df)\n",
    "df.info()"
   ]
  },
  {
   "cell_type": "code",
   "execution_count": null,
   "id": "cd625c4d",
   "metadata": {
    "scrolled": true
   },
   "outputs": [],
   "source": [
    "# Split the data into train, validate, and test sets\n",
    "train, validate, test = prepare.split_data(df)\n",
    "print(f'train: {train.shape}')\n",
    "print(f'validate: {validate.shape}')\n",
    "print(f'test: {test.shape}')"
   ]
  },
  {
   "cell_type": "markdown",
   "id": "381b133b",
   "metadata": {},
   "source": [
    "## EXPLORE"
   ]
  },
  {
   "cell_type": "code",
   "execution_count": null,
   "id": "cdeb9aa6",
   "metadata": {
    "scrolled": false
   },
   "outputs": [],
   "source": [
    "#  Explore the senior citizen vs churn\n",
    "senior=sns.countplot(data=train, x='senior_citizen', hue='churn')\n",
    "senior.set_xlabel('Senior Citzen ')\n",
    "senior.set_ylabel('Customer Count')\n",
    "plt.title('Does being a senior citizen have a significant impact on customer churn?')\n",
    "plt.show()"
   ]
  },
  {
   "cell_type": "markdown",
   "id": "e646da00",
   "metadata": {},
   "source": [
    "### Exploring and Visualizations Senior Citizen  Findings\n",
    "* The visualization shows that there are more senior citizens who churned than non-senior citizens who churned.\n",
    "* The proportion of senior citizens who churned is higher than the proportion of non-senior citizens who churned.\n",
    "* This suggests that senior citizen status is a significant factor that can influence customer churn.\n"
   ]
  },
  {
   "cell_type": "code",
   "execution_count": null,
   "id": "61344300",
   "metadata": {
    "scrolled": true
   },
   "outputs": [],
   "source": [
    "#Visualizing the tenure vs churn\n",
    "dp=sns.scatterplot(data=train, x='tenure',y='customer_id', hue='churn')\n",
    "dp.set_xlabel('Tenure')\n",
    "dp.set_ylabel('Customer Count')\n",
    "plt.title('Does tenure have a significant impact on customer churn?')\n",
    "plt.show()"
   ]
  },
  {
   "cell_type": "markdown",
   "id": "189ef5f2",
   "metadata": {},
   "source": [
    "### Exploring and Visualizations Tenure  Findings\n",
    "* The scatterplot shows that there is a general trend of churn increasing with tenure.\n",
    "* However, there are some customers who churned early in their tenure, and some customers who did not churn even after a long tenure.\n",
    "* This suggests that tenure is not the only factor that can influence customer churn.\n"
   ]
  },
  {
   "cell_type": "code",
   "execution_count": null,
   "id": "27560ca9",
   "metadata": {
    "scrolled": true
   },
   "outputs": [],
   "source": [
    "#Visualizing the internet service vs churn\n",
    "st=sns.countplot(data=train, x='internet_service_type', hue='churn')\n",
    "st.set_xlabel('internet_service_type')\n",
    "st.set_ylabel('Customer Count')\n",
    "plt.title('Does internet service type have a significant impact on customer churn?')\n",
    "plt.show()"
   ]
  },
  {
   "cell_type": "markdown",
   "id": "e9b5370b",
   "metadata": {},
   "source": [
    "### Exploring and Visualizations Internet Service Type Findings\n",
    "* The visualization shows that there are more customers with DSL who churned than customers with fiber optic or no internet service who churned.\n",
    "* The proportion of customers with DSL who churned is higher than the proportion of customers with fiber optic or no internet service who churned.\n",
    "* This suggests that internet service type is a significant factor that can influence customer churn.\n"
   ]
  },
  {
   "cell_type": "markdown",
   "id": "2ca4fe29",
   "metadata": {},
   "source": [
    "## Statistical Testing \n",
    "#### Senior Citizen Hypothesis:  \n",
    "    • alpha = .05 \n",
    "    • H0 = Senior Citizen status is independent of customer churn \n",
    "    • Ha = Senior Citizen status is  dependent to customer churn  \n",
    "\n",
    " "
   ]
  },
  {
   "cell_type": "code",
   "execution_count": null,
   "id": "1c9e7373",
   "metadata": {},
   "outputs": [],
   "source": [
    "alpha = 0.05\n",
    "senior_observed = pd.crosstab(train.senior_citizen, train.churn)\n",
    "senior_observed"
   ]
  },
  {
   "cell_type": "code",
   "execution_count": null,
   "id": "026ab054",
   "metadata": {},
   "outputs": [],
   "source": [
    "# Example contingency table\n",
    "senior_observed1 = np.array([[2514, 787],\n",
    "                         [383, 259]])"
   ]
  },
  {
   "cell_type": "code",
   "execution_count": null,
   "id": "db806b04",
   "metadata": {},
   "outputs": [],
   "source": [
    "chi2, p, dof, expected = chi2_contingency(senior_observed)"
   ]
  },
  {
   "cell_type": "code",
   "execution_count": null,
   "id": "aa457e02",
   "metadata": {},
   "outputs": [],
   "source": [
    "# Print chi-square statistic, p-value, degrees of freedom, and expected frequencies\n",
    "print(\"Chi-square statistic:\", chi2)\n",
    "print(\"p-value:\", p)\n",
    "print(\"Degrees of freedom:\", dof)\n",
    "print(\"Expected frequencies:\", expected)"
   ]
  },
  {
   "cell_type": "code",
   "execution_count": null,
   "id": "dce85c77",
   "metadata": {},
   "outputs": [],
   "source": [
    "# Plot the observed frequencies\n",
    "fig, ax = plt.subplots()\n",
    "cax = ax.matshow(senior_observed1, cmap='RdYlBu')\n",
    "fig.colorbar(cax)\n",
    "\n",
    "# Add text to each cell\n",
    "for i in range(senior_observed1.shape[0]):\n",
    "    for j in range(senior_observed1.shape[1]):\n",
    "        ax.text(j, i, senior_observed1[i, j], va='center', ha='center')\n",
    "\n",
    "# Set x and y axis labels\n",
    "plt.xlabel('Column')\n",
    "plt.ylabel('Row')\n",
    "\n",
    "# Set plot title\n",
    "plt.title('Observed Frequencies')\n",
    "\n",
    "# Show the plot\n",
    "plt.show()\n",
    "\n",
    "\n",
    "\n",
    "                        "
   ]
  },
  {
   "cell_type": "code",
   "execution_count": null,
   "id": "b0782832",
   "metadata": {},
   "outputs": [],
   "source": [
    "print(f'The p-value is less than the alpha: {p < alpha}')\n",
    "\n",
    "if p < alpha:\n",
    "    print('Outcome: We reject the null')\n",
    "else:\n",
    "    print(\"Outcome: We fail to reject the null\")\n",
    "    "
   ]
  },
  {
   "cell_type": "markdown",
   "id": "f8957657",
   "metadata": {},
   "source": [
    "\n",
    "#### Tenure Hypothesis:  \n",
    "\n",
    "* alpha = .05 \n",
    "* H0 = Tenure is independent of customer churn \n",
    "* Ha = Tenure is dependent to customer churn  \n"
   ]
  },
  {
   "cell_type": "code",
   "execution_count": null,
   "id": "dfa484e6",
   "metadata": {
    "scrolled": true
   },
   "outputs": [],
   "source": [
    "alpha = 0.05\n",
    "tenure_observed = pd.crosstab(train.tenure, train.churn)\n",
    "tenure_observed"
   ]
  },
  {
   "cell_type": "code",
   "execution_count": null,
   "id": "9479bad5",
   "metadata": {},
   "outputs": [],
   "source": [
    "# Example contingency table\n",
    "tenure_observed1 = np.array([\n",
    "    [8, 0],\n",
    "    [121, 212],\n",
    "    [60, 72]\n",
    "])    "
   ]
  },
  {
   "cell_type": "code",
   "execution_count": null,
   "id": "68b3e1ce",
   "metadata": {},
   "outputs": [],
   "source": [
    "chi2, p, dof, expected = chi2_contingency(senior_observed)"
   ]
  },
  {
   "cell_type": "code",
   "execution_count": null,
   "id": "d931b960",
   "metadata": {},
   "outputs": [],
   "source": [
    "# Print chi-square statistic, p-value, degrees of freedom, and expected frequencies\n",
    "print(\"Chi-square statistic:\", chi2)\n",
    "print(\"p-value:\", p)\n",
    "print(\"Degrees of freedom:\", dof)\n",
    "print(\"Expected frequencies:\", expected)"
   ]
  },
  {
   "cell_type": "code",
   "execution_count": null,
   "id": "e4c00dd1",
   "metadata": {},
   "outputs": [],
   "source": [
    "# Plot the observed frequencies\n",
    "fig, ax = plt.subplots()\n",
    "cax = ax.matshow(tenure_observed1, cmap='RdYlBu')\n",
    "fig.colorbar(cax)\n",
    "\n",
    "# Add text to each cell\n",
    "for i in range(tenure_observed1.shape[0]):\n",
    "    for j in range(tenure_observed1.shape[1]):\n",
    "        ax.text(j, i, tenure_observed1[i, j], va='center', ha='center')\n",
    "\n",
    "# Set x and y axis labels\n",
    "plt.xlabel('Column')\n",
    "plt.ylabel('Row')\n",
    "\n",
    "# Set plot title\n",
    "plt.title('Observed Frequencies')\n",
    "\n",
    "# Show the plot\n",
    "plt.show()"
   ]
  },
  {
   "cell_type": "code",
   "execution_count": null,
   "id": "419a0b6d",
   "metadata": {},
   "outputs": [],
   "source": [
    "print(f'The p-value is less than the alpha: {p < alpha}')\n",
    "\n",
    "if p < alpha:\n",
    "    print('Outcome: We reject the null')\n",
    "else:\n",
    "    print(\"Outcome: We fail to reject the null\")\n",
    "    "
   ]
  },
  {
   "cell_type": "markdown",
   "id": "2a2970f1",
   "metadata": {},
   "source": [
    "\n",
    "#### Intenet Service Type Hypothesis:  \n",
    "* alpha = .05 \n",
    "* H0 = Internet Service Type is independent of customer churn \n",
    "* Ha = Internet Service Type is dependent to customer churn  \n"
   ]
  },
  {
   "cell_type": "code",
   "execution_count": null,
   "id": "691dc913",
   "metadata": {
    "scrolled": true
   },
   "outputs": [],
   "source": [
    "alpha = 0.05\n",
    "internet_observed = pd.crosstab(train.internet_service_type, train.churn)\n",
    "internet_observed "
   ]
  },
  {
   "cell_type": "code",
   "execution_count": null,
   "id": "4c0861a9",
   "metadata": {},
   "outputs": [],
   "source": [
    "# Example contingency table\n",
    "internet_observed1 = np.array([\n",
    "    [1095, 254],\n",
    "    [1019, 726],\n",
    "    [783, 66]\n",
    "])"
   ]
  },
  {
   "cell_type": "code",
   "execution_count": null,
   "id": "c00fd3e7",
   "metadata": {},
   "outputs": [],
   "source": [
    "# Perform chi-square test\n",
    "chi2, p, dof, expected = chi2_contingency(internet_observed)"
   ]
  },
  {
   "cell_type": "code",
   "execution_count": null,
   "id": "b8bc49ed",
   "metadata": {},
   "outputs": [],
   "source": [
    "# Print chi-square statistic, p-value, degrees of freedom, and expected frequencies\n",
    "print(\"Chi-square statistic:\", chi2)\n",
    "print(\"p-value:\", p)\n",
    "print(\"Degrees of freedom:\", dof)\n",
    "print(\"Expected frequencies:\", expected)"
   ]
  },
  {
   "cell_type": "code",
   "execution_count": null,
   "id": "22d75c15",
   "metadata": {},
   "outputs": [],
   "source": [
    "# Plot the observed frequencies\n",
    "fig, ax = plt.subplots()\n",
    "cax = ax.matshow(internet_observed1, cmap='RdYlBu')\n",
    "fig.colorbar(cax)\n",
    "\n",
    "# Add text to each cell\n",
    "for i in range(internet_observed1.shape[0]):\n",
    "    for j in range(internet_observed1.shape[1]):\n",
    "        ax.text(j, i, internet_observed1[i, j], va='center', ha='center')\n",
    "\n",
    "# Set x and y axis labels\n",
    "plt.xlabel('Column')\n",
    "plt.ylabel('Row')\n",
    "\n",
    "# Set plot title\n",
    "plt.title('Observed Frequencies')\n",
    "\n",
    "# Show the plot\n",
    "plt.show()"
   ]
  },
  {
   "cell_type": "code",
   "execution_count": null,
   "id": "911cf192",
   "metadata": {},
   "outputs": [],
   "source": [
    "print(f'The p-value is less than the alpha: {p < alpha}')\n",
    "\n",
    "if p < alpha:\n",
    "    print('Outcome: We reject the null')\n",
    "else:\n",
    "    print(\"Outcome: we fail to reject the null\")"
   ]
  },
  {
   "cell_type": "markdown",
   "id": "b25eb36f",
   "metadata": {},
   "source": [
    "#### Statistical Findings\n",
    "\n",
    "- Senior Citizen Hypothesis - We reject the Null Hypothesis, senior citizen status is dependent on customer churn.\n",
    "- Tenure Hypothesis - We reject the Null Hypothesis, tenure is dependent on customer churn. \n",
    "- Internet Service Hypothesis We reject the Null Hypothesis, internet service type is is dependent on customer churn."
   ]
  },
  {
   "cell_type": "markdown",
   "id": "35fd8254",
   "metadata": {},
   "source": [
    "## MODEL\n"
   ]
  },
  {
   "cell_type": "code",
   "execution_count": null,
   "id": "8fffe573",
   "metadata": {},
   "outputs": [],
   "source": [
    "#Split the data in to X and Y for all datasets with churn and those without \n",
    "X_train = train.select_dtypes(exclude=['object']).drop(columns=['churn'])\n",
    "y_train = train.select_dtypes(exclude=['object']).churn\n",
    "\n",
    "X_validate = validate.select_dtypes(exclude=['object']).drop(columns=['churn'])\n",
    "y_validate = validate.select_dtypes(exclude=['object']).churn\n",
    "\n",
    "X_test = test.select_dtypes(exclude=['object']).drop(columns=['churn'])\n",
    "y_test = test.select_dtypes(exclude=['object']).churn"
   ]
  },
  {
   "cell_type": "markdown",
   "id": "bae0dba7",
   "metadata": {},
   "source": [
    "### Evaluate on Baseline"
   ]
  },
  {
   "cell_type": "code",
   "execution_count": null,
   "id": "826b6e6d",
   "metadata": {},
   "outputs": [],
   "source": [
    "#Exploring churn The majority churn. value counts were '0', and will be use to define baseline\n",
    "train.churn.value_counts()"
   ]
  },
  {
   "cell_type": "code",
   "execution_count": null,
   "id": "984d98ae",
   "metadata": {},
   "outputs": [],
   "source": [
    "baseline =(y_train==0).mean()\n",
    "print(f'The baseline accuracy is: {baseline:.2%}')\n",
    "\n"
   ]
  },
  {
   "cell_type": "markdown",
   "id": "33e09fe7",
   "metadata": {},
   "source": [
    "### RANDOM FOREST"
   ]
  },
  {
   "cell_type": "code",
   "execution_count": null,
   "id": "43171ec2",
   "metadata": {},
   "outputs": [],
   "source": [
    "#Make Random Forest Classifier model\n",
    "random = RandomForestClassifier(bootstrap=True, \n",
    "                            class_weight=None, \n",
    "                            criterion='gini',\n",
    "                            min_samples_leaf=1,\n",
    "                            n_estimators=100,\n",
    "                            max_depth=10, \n",
    "                            random_state=40)"
   ]
  },
  {
   "cell_type": "code",
   "execution_count": null,
   "id": "8ef272c3",
   "metadata": {},
   "outputs": [],
   "source": [
    "#Fit  Random Forest Classifier model \n",
    "random.fit(X_train, y_train)"
   ]
  },
  {
   "cell_type": "code",
   "execution_count": null,
   "id": "4bd8abd3",
   "metadata": {},
   "outputs": [],
   "source": [
    "#Use  Random Forest Classifier model \n",
    "print(f'training score: {random.score(X_train, y_train):.2%}')\n",
    "print(f'validate score: {random.score(X_validate, y_validate):.2%}')\n",
    "print('Random forest scores are both higher than baseline accuracy')"
   ]
  },
  {
   "cell_type": "markdown",
   "id": "1b9c66f7",
   "metadata": {},
   "source": [
    "### LOGISTIC REGRESSION"
   ]
  },
  {
   "cell_type": "code",
   "execution_count": null,
   "id": "4ba90876",
   "metadata": {},
   "outputs": [],
   "source": [
    "# Make Logistic Regression model\n",
    "logreg = LogisticRegression(C=1, random_state=40)"
   ]
  },
  {
   "cell_type": "code",
   "execution_count": null,
   "id": "4f6fa46e",
   "metadata": {},
   "outputs": [],
   "source": [
    "logreg.fit(X_train, y_train)"
   ]
  },
  {
   "cell_type": "code",
   "execution_count": null,
   "id": "d4e336ba",
   "metadata": {},
   "outputs": [],
   "source": [
    "y_pred = logreg.predict(X_train)"
   ]
  },
  {
   "cell_type": "code",
   "execution_count": null,
   "id": "829bc912",
   "metadata": {},
   "outputs": [],
   "source": [
    "print(f'logistic regression training score: {logreg.score(X_train, y_train):.2%}')\n",
    "print(f'logistic regression validate score: {logreg.score(X_validate, y_validate):.2%}')\n",
    "print('Logistic regression scores are both higher than baseline accuracy')"
   ]
  },
  {
   "cell_type": "markdown",
   "id": "07a081e9",
   "metadata": {},
   "source": [
    "### DECISION TREE"
   ]
  },
  {
   "cell_type": "code",
   "execution_count": null,
   "id": "ff92810b",
   "metadata": {},
   "outputs": [],
   "source": [
    "# Make, FIT, Use Decision Tree\n",
    "decision = DecisionTreeClassifier(max_depth=3, random_state=40)\n",
    "decision = decision.fit(X_train, y_train)\n"
   ]
  },
  {
   "cell_type": "code",
   "execution_count": null,
   "id": "0e95f2b0",
   "metadata": {},
   "outputs": [],
   "source": [
    "print(f'Decision tree training score: {decision.score(X_train, y_train):.2%}')\n",
    "print(f'Decision tree validate score: {decision.score(X_validate, y_validate):.2%}')\n",
    "print('Decision tree scores are both higher than baseline accuracy')"
   ]
  },
  {
   "cell_type": "code",
   "execution_count": null,
   "id": "b08c9bbe",
   "metadata": {},
   "outputs": [],
   "source": []
  },
  {
   "cell_type": "markdown",
   "id": "a2e2324a",
   "metadata": {},
   "source": [
    "###  TOP Model Selection\n",
    "Although Random Forest models scored higher than the baseline accuracy of 74%, and the scores were consistent in both training and validation models, Decision Tree and Logistic Regression models had better accuracy and consistency than Random Forest Tree, with both model sets achieving an accuracy of around 79%. The Decision Tree model was chosen."
   ]
  },
  {
   "cell_type": "markdown",
   "id": "518da1df",
   "metadata": {},
   "source": [
    "### TOP MODEL  Test"
   ]
  },
  {
   "cell_type": "code",
   "execution_count": null,
   "id": "944ed449",
   "metadata": {},
   "outputs": [],
   "source": [
    "decision.fit(X_test, y_test)\n",
    "y_prediction = decision.predict(X_test)\n",
    "# decision.classes_\n",
    "#  decision.predict_proba(X_test) [:,1]"
   ]
  },
  {
   "cell_type": "code",
   "execution_count": null,
   "id": "950c1a0f",
   "metadata": {},
   "outputs": [],
   "source": [
    "print(f'Decision tree test score: {decision.score(X_test, y_test):.2%}')\n",
    "print('Train & Validate decision tree model scores were higher than baseline accuracy with a consistant accuracy of 79%. Test Decesion Tree was 81%')"
   ]
  },
  {
   "cell_type": "code",
   "execution_count": null,
   "id": "d16a5299",
   "metadata": {},
   "outputs": [],
   "source": [
    "y_test_pred = pd.DataFrame({\n",
    "    'customer_id': test['customer_id'],\n",
    "    'Probability of churn': decision.predict_proba(X_test) [:,1],\n",
    "    'Test Prediction': decision.predict(X_test)\n",
    "})\n",
    "y_test_pred.head()"
   ]
  },
  {
   "cell_type": "code",
   "execution_count": null,
   "id": "c398058d",
   "metadata": {},
   "outputs": [],
   "source": [
    "print(classification_report(y_test, y_prediction))"
   ]
  },
  {
   "cell_type": "markdown",
   "id": "a5079da4",
   "metadata": {},
   "source": [
    "## Conclusion Summary \n",
    "\n",
    "- Three features  selected based on their visual significance and chi-square statistical testing for training the Classification Model to determine their significant relationship to churn.\n",
    "- Senior Citizen Hypothesis - We reject the Null Hypothesis, senior citizen status is dependent on customer churn.\n",
    "- Tenure Hypothesis - We reject the Null Hypothesis, tenure is dependent on customer churn. \n",
    "- Internet Service Hypothesis We reject the Null Hypothesis, internet service type is is dependent on customer churn.\n",
    "- Decision Tree, Logistic Regression, and Random Forest models were implemented with a Random Seed of 40 to avoid overfitting.\n",
    "- The Deceision and Logistic Regression model outperformed the baseline accuracy of 73% and consistently. Decision Tree Model was selected as Top Model and achieved an accuracy of approximately 80% on the train, validate, and test sets.\n",
    "\n",
    "\n",
    "## Recommendations \n",
    "1. Telco should focus on retaining senior citizens by providing them with special discounts or services.\n",
    "2. Telco should focus on retaining customers with long tenure by providing them with loyalty programs or other incentives.\n",
    "3. Telco should focus on improving the internet service speeds for customers with DSL orand coverage and bundle deals  for customers with no internet service.\n",
    "\n",
    "## Takeaways\n",
    "1. The factors of senior citizen status, tenure, and internet service type can influence customer churn at Telco.\n",
    "\n",
    "2. Telco should focus on retaining customers who are more likely to churn by providing them with special discounts, service upgrades, or incentives\n",
    "\n",
    "3. Improving these factors can reduce churn rates."
   ]
  }
 ],
 "metadata": {
  "kernelspec": {
   "display_name": "Python 3 (ipykernel)",
   "language": "python",
   "name": "python3"
  },
  "language_info": {
   "codemirror_mode": {
    "name": "ipython",
    "version": 3
   },
   "file_extension": ".py",
   "mimetype": "text/x-python",
   "name": "python",
   "nbconvert_exporter": "python",
   "pygments_lexer": "ipython3",
   "version": "3.10.9"
  }
 },
 "nbformat": 4,
 "nbformat_minor": 5
}
